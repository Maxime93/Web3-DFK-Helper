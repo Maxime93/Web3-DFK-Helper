{
 "cells": [
  {
   "cell_type": "code",
   "execution_count": 1,
   "id": "76bb2c25-2deb-4822-a97b-59b65ed39559",
   "metadata": {},
   "outputs": [],
   "source": [
    "import pandas as pd"
   ]
  },
  {
   "cell_type": "code",
   "execution_count": null,
   "id": "1efbc738-9d64-426f-a9fb-43032f1fee30",
   "metadata": {},
   "outputs": [],
   "source": [
    "path = \"/Users/maximerichard/dev/personal/finance_code/dfkhelper/lib/hero_score/class_for_profession/\"\n",
    "class_profession_stats_path = path + \"class_profession_stats.csv\"\n",
    "\n",
    "class_profession_stats = pd.read_csv(class_profession_stats_path)\n"
   ]
  }
 ],
 "metadata": {
  "kernelspec": {
   "display_name": "Python 3",
   "language": "python",
   "name": "python3"
  },
  "language_info": {
   "codemirror_mode": {
    "name": "ipython",
    "version": 3
   },
   "file_extension": ".py",
   "mimetype": "text/x-python",
   "name": "python",
   "nbconvert_exporter": "python",
   "pygments_lexer": "ipython3",
   "version": "3.8.3"
  }
 },
 "nbformat": 4,
 "nbformat_minor": 5
}
