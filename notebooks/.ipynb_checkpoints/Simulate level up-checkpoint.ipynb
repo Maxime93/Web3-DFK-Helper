{
 "cells": [
  {
   "cell_type": "code",
   "execution_count": null,
   "id": "1d92358f-9d8f-4ccd-9880-5dda22ca77c0",
   "metadata": {},
   "outputs": [],
   "source": [
    "import pandas as pd"
   ]
  },
  {
   "cell_type": "code",
   "execution_count": null,
   "id": "7dcb2263-487e-467f-b12d-04d19a8f5d60",
   "metadata": {},
   "outputs": [],
   "source": []
  }
 ],
 "metadata": {
  "kernelspec": {
   "display_name": "Python 3",
   "language": "python",
   "name": "python3"
  },
  "language_info": {
   "codemirror_mode": {
    "name": "ipython",
    "version": 3
   },
   "file_extension": ".py",
   "mimetype": "text/x-python",
   "name": "python",
   "nbconvert_exporter": "python",
   "pygments_lexer": "ipython3",
   "version": "3.8.3"
  }
 },
 "nbformat": 4,
 "nbformat_minor": 5
}
