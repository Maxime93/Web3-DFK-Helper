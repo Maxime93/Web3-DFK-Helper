{
 "cells": [
  {
   "cell_type": "code",
   "execution_count": null,
   "id": "cd6810cc-76fd-466e-a58d-aaeb7b4efc0d",
   "metadata": {},
   "outputs": [],
   "source": []
  }
 ],
 "metadata": {
  "kernelspec": {
   "display_name": "dfkhelper",
   "language": "python",
   "name": "dfkhelper"
  },
  "language_info": {
   "codemirror_mode": {
    "name": "ipython",
    "version": 3
   },
   "file_extension": ".py",
   "mimetype": "text/x-python",
   "name": "python",
   "nbconvert_exporter": "python",
   "pygments_lexer": "ipython3",
   "version": "3.10.4"
  }
 },
 "nbformat": 4,
 "nbformat_minor": 5
}
