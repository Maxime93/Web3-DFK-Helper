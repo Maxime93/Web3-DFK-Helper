{
 "cells": [
  {
   "cell_type": "code",
   "execution_count": 83,
   "id": "c1a783bd-7049-4079-9169-9febbb2258ce",
   "metadata": {},
   "outputs": [],
   "source": [
    "import os\n",
    "import pandas as pd\n",
    "\n",
    "import copy"
   ]
  },
  {
   "cell_type": "code",
   "execution_count": 39,
   "id": "f225010c-81c7-4160-a215-dc1914f216d3",
   "metadata": {},
   "outputs": [],
   "source": [
    "hero_list = ['Warrior',\n",
    " 'Knight',\n",
    " 'Thief',\n",
    " 'Archer',\n",
    " 'Priest',\n",
    " 'Wizard',\n",
    " 'Monk',\n",
    " 'Pirate',\n",
    " 'Berserker',\n",
    " 'Seer',\n",
    " 'Paladin *',\n",
    " 'Dark Knight *',\n",
    " 'Summoner *',\n",
    " 'Ninja *',\n",
    " 'Shapeshifter *',\n",
    " 'Dragoon **',\n",
    " 'Sage **',\n",
    " 'Dread Knight ***']\n",
    "\n",
    "scores = ['20','25','30','35','40','45','50','55','60','65','70','75','80','85','90' ]"
   ]
  },
  {
   "cell_type": "code",
   "execution_count": 112,
   "id": "7fab998f-eed4-4b92-9be5-b19eb5ec2ee5",
   "metadata": {},
   "outputs": [],
   "source": [
    "def get_stats(cwd):\n",
    "    stats_dir = f'{cwd}/lib/hero_score/stats'\n",
    "    stats_dfs = {}\n",
    "    for filename in os.listdir(stats_dir):\n",
    "        f = os.path.join(stats_dir, filename)\n",
    "        if os.path.isfile(f):\n",
    "            stat = f.split('/')[-1].split('.')[0]\n",
    "            df = pd.read_csv(f)\n",
    "            stats_dfs[stat] = df\n",
    "    return stats_dfs\n",
    "\n",
    "stats_dfs = get_stats('/Users/maximerichard/dev/personal/finance_code/dfkhelper/')\n",
    "\n",
    "# Primary\n",
    "# per_hero_data = []\n",
    "# for hero in hero_list:\n",
    "#     hero_formatted = {'hero': hero}\n",
    "#     for stat in stats_dfs:\n",
    "#         df = stats_dfs[stat]\n",
    "#         hero_row = df[df['Hero'] == hero]\n",
    "#         for s in scores:\n",
    "#             score = hero_row[s].tolist()[0]\n",
    "#             if pd.isnull(score):\n",
    "#                 continue\n",
    "#             hero_formatted[stat] = score\n",
    "#     per_hero_data.append(hero_formatted) \n",
    "# print(pd.DataFrame(per_hero_data))\n",
    "\n",
    "# pd.DataFrame(per_hero_data).to_csv('hero_stats_primary.csv', index=False)\n",
    "\n",
    "# Secondary\n",
    "data = []\n",
    "for stat in stats_dfs:\n",
    "    df = copy.deepcopy(stats_dfs[stat][['Hero', 'secondary']])\n",
    "    df[stat] = df['secondary']\n",
    "    df['stat'] = stat\n",
    "    to_save = df[['Hero', stat]]\n",
    "    if not saved_row:\n",
    "        l = to_save[\"Hero\"].tolist()\n",
    "        l[0] = 'stat'\n",
    "        data.append(l)\n",
    "        saved_row = True\n",
    "    ll = to_save[stat].tolist()\n",
    "    ll[0] = stat\n",
    "    data.append(ll)\n",
    "        \n",
    "    \n",
    "d = pd.DataFrame(data[1:], columns=cols)\n",
    "d.to_csv('secondary.csv', index=False)"
   ]
  },
  {
   "cell_type": "code",
   "execution_count": 19,
   "id": "c390f757-1b9f-4e54-819d-685cdbb232cf",
   "metadata": {},
   "outputs": [],
   "source": [
    "# cwd = os.getcwd()\n",
    "# path = \"dev/personal/finance_code/dfkhelper\"\n",
    "# if not path in cwd:\n",
    "#     cwd = f\"{cwd}/{path}\"\n",
    "stats_dfs = get_stats('/Users/maximerichard/dev/personal/finance_code/dfkhelper/')"
   ]
  },
  {
   "cell_type": "code",
   "execution_count": 20,
   "id": "ee6c0aca-a544-47a2-b6a5-a6b701eb9846",
   "metadata": {},
   "outputs": [
    {
     "ename": "KeyError",
     "evalue": "0",
     "output_type": "error",
     "traceback": [
      "\u001b[0;31m---------------------------------------------------------------------------\u001b[0m",
      "\u001b[0;31mKeyError\u001b[0m                                  Traceback (most recent call last)",
      "\u001b[0;32m/var/folders/4t/3296tw1n78d2_9rxsp1cszy80000gn/T/ipykernel_2863/2086227149.py\u001b[0m in \u001b[0;36m<module>\u001b[0;34m\u001b[0m\n\u001b[0;32m----> 1\u001b[0;31m \u001b[0mstats_dfs\u001b[0m\u001b[0;34m[\u001b[0m\u001b[0;36m0\u001b[0m\u001b[0;34m]\u001b[0m\u001b[0;34m\u001b[0m\u001b[0;34m\u001b[0m\u001b[0m\n\u001b[0m",
      "\u001b[0;31mKeyError\u001b[0m: 0"
     ]
    }
   ],
   "source": [
    "stats_dfs[0]"
   ]
  },
  {
   "cell_type": "code",
   "execution_count": null,
   "id": "c1e71bfa-a87d-4510-b7c1-7347d3656d87",
   "metadata": {},
   "outputs": [],
   "source": []
  }
 ],
 "metadata": {
  "kernelspec": {
   "display_name": "Python 3",
   "language": "python",
   "name": "python3"
  },
  "language_info": {
   "codemirror_mode": {
    "name": "ipython",
    "version": 3
   },
   "file_extension": ".py",
   "mimetype": "text/x-python",
   "name": "python",
   "nbconvert_exporter": "python",
   "pygments_lexer": "ipython3",
   "version": "3.8.3"
  }
 },
 "nbformat": 4,
 "nbformat_minor": 5
}
